{
 "cells": [
  {
   "cell_type": "code",
   "execution_count": 1,
   "id": "c236dec7",
   "metadata": {
    "execution": {
     "iopub.execute_input": "2023-04-11T16:05:03.167608Z",
     "iopub.status.busy": "2023-04-11T16:05:03.167608Z",
     "iopub.status.idle": "2023-04-11T16:05:04.700241Z",
     "shell.execute_reply": "2023-04-11T16:05:04.700241Z"
    },
    "papermill": {
     "duration": 1.540615,
     "end_time": "2023-04-11T16:05:04.700241",
     "exception": false,
     "start_time": "2023-04-11T16:05:03.159626",
     "status": "completed"
    },
    "tags": []
   },
   "outputs": [],
   "source": [
    "import numpy as np\n",
    "import pandas as pd\n",
    "import os\n",
    "from sklearn.preprocessing import StandardScaler\n",
    "import joblib\n",
    "from time import time\n",
    "from datetime import datetime"
   ]
  },
  {
   "cell_type": "code",
   "execution_count": 2,
   "id": "2296275e",
   "metadata": {
    "execution": {
     "iopub.execute_input": "2023-04-11T16:05:04.713392Z",
     "iopub.status.busy": "2023-04-11T16:05:04.713392Z",
     "iopub.status.idle": "2023-04-11T16:05:04.722821Z",
     "shell.execute_reply": "2023-04-11T16:05:04.722821Z"
    },
    "papermill": {
     "duration": 0.015954,
     "end_time": "2023-04-11T16:05:04.722821",
     "exception": false,
     "start_time": "2023-04-11T16:05:04.706867",
     "status": "completed"
    },
    "tags": []
   },
   "outputs": [
    {
     "name": "stdout",
     "output_type": "stream",
     "text": [
      "[2023-04-11 13:05:04] Comienzo de la predicción\n"
     ]
    }
   ],
   "source": [
    "tiempo_inicio = time()\n",
    "today = f'[{datetime.today().strftime(\"%Y-%m-%d %H:%M:%S\")}]'\n",
    "print(f'{today} Comienzo de la predicción')"
   ]
  },
  {
   "cell_type": "code",
   "execution_count": 3,
   "id": "b969d2e7",
   "metadata": {
    "execution": {
     "iopub.execute_input": "2023-04-11T16:05:04.729826Z",
     "iopub.status.busy": "2023-04-11T16:05:04.729826Z",
     "iopub.status.idle": "2023-04-11T16:05:04.738990Z",
     "shell.execute_reply": "2023-04-11T16:05:04.738990Z"
    },
    "papermill": {
     "duration": 0.009164,
     "end_time": "2023-04-11T16:05:04.738990",
     "exception": false,
     "start_time": "2023-04-11T16:05:04.729826",
     "status": "completed"
    },
    "tags": []
   },
   "outputs": [],
   "source": [
    "# Variables Globales\n",
    "PATH = os.getcwd()\n",
    "AUX_FOLDER = 'aux_file'\n",
    "OUTPUT = 'output'\n",
    "MODEL_PARAMETERS = 'model_weights.pkl'\n",
    "OUTPUT_FILENAME = 'predictions.xlsx'"
   ]
  },
  {
   "cell_type": "code",
   "execution_count": 4,
   "id": "c69b8277",
   "metadata": {
    "execution": {
     "iopub.execute_input": "2023-04-11T16:05:04.745995Z",
     "iopub.status.busy": "2023-04-11T16:05:04.745995Z",
     "iopub.status.idle": "2023-04-11T16:05:04.756838Z",
     "shell.execute_reply": "2023-04-11T16:05:04.756838Z"
    },
    "papermill": {
     "duration": 0.016354,
     "end_time": "2023-04-11T16:05:04.762349",
     "exception": false,
     "start_time": "2023-04-11T16:05:04.745995",
     "status": "completed"
    },
    "tags": []
   },
   "outputs": [],
   "source": [
    "# Si no esta la carpeta aux_file, la creo\n",
    "if not os.path.exists(os.path.join(PATH, OUTPUT)):\n",
    "    os.mkdir(OUTPUT)"
   ]
  },
  {
   "cell_type": "code",
   "execution_count": 5,
   "id": "d5c3cc54",
   "metadata": {
    "execution": {
     "iopub.execute_input": "2023-04-11T16:05:04.770389Z",
     "iopub.status.busy": "2023-04-11T16:05:04.770389Z",
     "iopub.status.idle": "2023-04-11T16:05:04.780459Z",
     "shell.execute_reply": "2023-04-11T16:05:04.780459Z"
    },
    "papermill": {
     "duration": 0.01811,
     "end_time": "2023-04-11T16:05:04.780459",
     "exception": false,
     "start_time": "2023-04-11T16:05:04.762349",
     "status": "completed"
    },
    "tags": []
   },
   "outputs": [],
   "source": [
    "new_data = {\n",
    "    'Fecha': ['2021-01-01', '2021-02-01', '2021-03-01', '2021-04-01', '2021-05-01'],\n",
    "    'Area': [100, 200, 150, 120, 180],\n",
    "    'Habitaciones': [2, 3, 4, 3, 4],\n",
    "    'Antiguedad': [10, 20, 30, 40, 50],\n",
    "}\n",
    "\n",
    "new_df = pd.DataFrame(new_data)"
   ]
  },
  {
   "cell_type": "code",
   "execution_count": 6,
   "id": "65db6d8d",
   "metadata": {
    "execution": {
     "iopub.execute_input": "2023-04-11T16:05:04.794509Z",
     "iopub.status.busy": "2023-04-11T16:05:04.794509Z",
     "iopub.status.idle": "2023-04-11T16:05:04.800303Z",
     "shell.execute_reply": "2023-04-11T16:05:04.800303Z"
    },
    "papermill": {
     "duration": 0.016329,
     "end_time": "2023-04-11T16:05:04.802816",
     "exception": false,
     "start_time": "2023-04-11T16:05:04.786487",
     "status": "completed"
    },
    "tags": [
     "parameters"
    ]
   },
   "outputs": [],
   "source": [
    "media = 0\n",
    "desv_estandar = 1"
   ]
  },
  {
   "cell_type": "code",
   "execution_count": 7,
   "id": "b6bd1ebd",
   "metadata": {
    "execution": {
     "iopub.execute_input": "2023-04-11T16:05:04.810836Z",
     "iopub.status.busy": "2023-04-11T16:05:04.810836Z",
     "iopub.status.idle": "2023-04-11T16:05:04.820653Z",
     "shell.execute_reply": "2023-04-11T16:05:04.820653Z"
    },
    "papermill": {
     "duration": 0.019743,
     "end_time": "2023-04-11T16:05:04.822559",
     "exception": false,
     "start_time": "2023-04-11T16:05:04.802816",
     "status": "completed"
    },
    "tags": [
     "injected-parameters"
    ]
   },
   "outputs": [],
   "source": [
    "# Parameters\n",
    "media = [127.3342857142857, 3.125714285714286, 50.62285714285714, 327124.0115305251]\n",
    "desv_estandar = [\n",
    "    42.55987005120564,\n",
    "    1.402516688394291,\n",
    "    27.88344194488689,\n",
    "    142067.1613139045,\n",
    "]\n"
   ]
  },
  {
   "cell_type": "code",
   "execution_count": 8,
   "id": "9a9332f6",
   "metadata": {
    "execution": {
     "iopub.execute_input": "2023-04-11T16:05:04.835196Z",
     "iopub.status.busy": "2023-04-11T16:05:04.835196Z",
     "iopub.status.idle": "2023-04-11T16:05:04.998308Z",
     "shell.execute_reply": "2023-04-11T16:05:04.998308Z"
    },
    "papermill": {
     "duration": 0.171217,
     "end_time": "2023-04-11T16:05:04.998308",
     "exception": false,
     "start_time": "2023-04-11T16:05:04.827091",
     "status": "completed"
    },
    "tags": []
   },
   "outputs": [],
   "source": [
    "# Aplicar el mismo preprocesamiento que al dataset original\n",
    "scaled_new_data = (new_df[['Area', 'Habitaciones', 'Antiguedad']] - media[:-1]) / desv_estandar[:-1]\n",
    "new_df_scaled = pd.DataFrame(scaled_new_data, columns=['Area', 'Habitaciones', 'Antiguedad'])\n",
    "\n",
    "# Cargar el modelo previously trained desde su archivo \"model_weights.plk\"\n",
    "coeficientes, intercept = joblib.load(os.path.join(PATH, AUX_FOLDER, MODEL_PARAMETERS))\n",
    "\n",
    "# Realizar predicciones con el modelo entrenado\n",
    "predictions =  np.dot(new_df_scaled, coeficientes.reshape(-1,1)) + intercept\n",
    "\n",
    "# Escalo el resultado\n",
    "predictions = (predictions * desv_estandar[-1]) + media[-1]\n",
    "\n",
    "# Guardar las predicciones en un archivo de Excel\n",
    "predictions_df = pd.DataFrame(predictions, columns=['Predicciones'])\n",
    "predictions_df = pd.concat([new_df, predictions_df], axis=1)\n",
    "predictions_df.to_excel(os.path.join(PATH, OUTPUT, OUTPUT_FILENAME), index=False)"
   ]
  },
  {
   "cell_type": "code",
   "execution_count": 9,
   "id": "0c0e888f",
   "metadata": {
    "execution": {
     "iopub.execute_input": "2023-04-11T16:05:05.020678Z",
     "iopub.status.busy": "2023-04-11T16:05:05.012647Z",
     "iopub.status.idle": "2023-04-11T16:05:05.028517Z",
     "shell.execute_reply": "2023-04-11T16:05:05.028517Z"
    },
    "papermill": {
     "duration": 0.01587,
     "end_time": "2023-04-11T16:05:05.028517",
     "exception": false,
     "start_time": "2023-04-11T16:05:05.012647",
     "status": "completed"
    },
    "tags": []
   },
   "outputs": [
    {
     "name": "stdout",
     "output_type": "stream",
     "text": [
      "[2023-04-11 13:05:04] El tiempo transcurrido de ejecucion fue: 00h 00m 00s\n"
     ]
    }
   ],
   "source": [
    "tiempo_fin = time()\n",
    "duracion = tiempo_fin - tiempo_inicio\n",
    "horas, remainder = divmod(int(duracion), 3600)\n",
    "minutos, segundos = divmod(remainder, 60)\n",
    "print(f'{today} El tiempo transcurrido de ejecucion fue: {horas:02d}h {minutos:02d}m {segundos:02d}s')"
   ]
  },
  {
   "cell_type": "code",
   "execution_count": 10,
   "id": "e467ac8e",
   "metadata": {
    "execution": {
     "iopub.execute_input": "2023-04-11T16:05:05.044633Z",
     "iopub.status.busy": "2023-04-11T16:05:05.044633Z",
     "iopub.status.idle": "2023-04-11T16:05:05.064279Z",
     "shell.execute_reply": "2023-04-11T16:05:05.064279Z"
    },
    "papermill": {
     "duration": 0.032349,
     "end_time": "2023-04-11T16:05:05.068880",
     "exception": false,
     "start_time": "2023-04-11T16:05:05.036531",
     "status": "completed"
    },
    "tags": []
   },
   "outputs": [
    {
     "data": {
      "text/plain": [
       "array([ 0.89828297,  0.14628686, -0.39102177])"
      ]
     },
     "execution_count": 10,
     "metadata": {},
     "output_type": "execute_result"
    }
   ],
   "source": [
    "coeficientes"
   ]
  },
  {
   "cell_type": "code",
   "execution_count": 11,
   "id": "2ae3b1bc",
   "metadata": {
    "execution": {
     "iopub.execute_input": "2023-04-11T16:05:05.084958Z",
     "iopub.status.busy": "2023-04-11T16:05:05.084958Z",
     "iopub.status.idle": "2023-04-11T16:05:05.095068Z",
     "shell.execute_reply": "2023-04-11T16:05:05.095068Z"
    },
    "papermill": {
     "duration": 0.018165,
     "end_time": "2023-04-11T16:05:05.095068",
     "exception": false,
     "start_time": "2023-04-11T16:05:05.076903",
     "status": "completed"
    },
    "tags": []
   },
   "outputs": [
    {
     "data": {
      "text/plain": [
       "1.0435113261461618e-16"
      ]
     },
     "execution_count": 11,
     "metadata": {},
     "output_type": "execute_result"
    }
   ],
   "source": [
    "intercept"
   ]
  },
  {
   "cell_type": "code",
   "execution_count": 12,
   "id": "78509fb1",
   "metadata": {
    "execution": {
     "iopub.execute_input": "2023-04-11T16:05:05.109087Z",
     "iopub.status.busy": "2023-04-11T16:05:05.109087Z",
     "iopub.status.idle": "2023-04-11T16:05:05.128095Z",
     "shell.execute_reply": "2023-04-11T16:05:05.128095Z"
    },
    "papermill": {
     "duration": 0.027018,
     "end_time": "2023-04-11T16:05:05.128095",
     "exception": false,
     "start_time": "2023-04-11T16:05:05.101077",
     "status": "completed"
    },
    "tags": []
   },
   "outputs": [
    {
     "data": {
      "text/html": [
       "<div>\n",
       "<style scoped>\n",
       "    .dataframe tbody tr th:only-of-type {\n",
       "        vertical-align: middle;\n",
       "    }\n",
       "\n",
       "    .dataframe tbody tr th {\n",
       "        vertical-align: top;\n",
       "    }\n",
       "\n",
       "    .dataframe thead th {\n",
       "        text-align: right;\n",
       "    }\n",
       "</style>\n",
       "<table border=\"1\" class=\"dataframe\">\n",
       "  <thead>\n",
       "    <tr style=\"text-align: right;\">\n",
       "      <th></th>\n",
       "      <th>Fecha</th>\n",
       "      <th>Area</th>\n",
       "      <th>Habitaciones</th>\n",
       "      <th>Antiguedad</th>\n",
       "      <th>Predicciones</th>\n",
       "    </tr>\n",
       "  </thead>\n",
       "  <tbody>\n",
       "    <tr>\n",
       "      <th>0</th>\n",
       "      <td>2021-01-01</td>\n",
       "      <td>100</td>\n",
       "      <td>2</td>\n",
       "      <td>10</td>\n",
       "      <td>309412.502842</td>\n",
       "    </tr>\n",
       "    <tr>\n",
       "      <th>1</th>\n",
       "      <td>2021-02-01</td>\n",
       "      <td>200</td>\n",
       "      <td>3</td>\n",
       "      <td>20</td>\n",
       "      <td>604159.589655</td>\n",
       "    </tr>\n",
       "    <tr>\n",
       "      <th>2</th>\n",
       "      <td>2021-03-01</td>\n",
       "      <td>150</td>\n",
       "      <td>4</td>\n",
       "      <td>30</td>\n",
       "      <td>449129.063826</td>\n",
       "    </tr>\n",
       "    <tr>\n",
       "      <th>3</th>\n",
       "      <td>2021-04-01</td>\n",
       "      <td>120</td>\n",
       "      <td>3</td>\n",
       "      <td>40</td>\n",
       "      <td>324432.790440</td>\n",
       "    </tr>\n",
       "    <tr>\n",
       "      <th>4</th>\n",
       "      <td>2021-05-01</td>\n",
       "      <td>180</td>\n",
       "      <td>4</td>\n",
       "      <td>50</td>\n",
       "      <td>499239.180548</td>\n",
       "    </tr>\n",
       "  </tbody>\n",
       "</table>\n",
       "</div>"
      ],
      "text/plain": [
       "        Fecha  Area  Habitaciones  Antiguedad   Predicciones\n",
       "0  2021-01-01   100             2          10  309412.502842\n",
       "1  2021-02-01   200             3          20  604159.589655\n",
       "2  2021-03-01   150             4          30  449129.063826\n",
       "3  2021-04-01   120             3          40  324432.790440\n",
       "4  2021-05-01   180             4          50  499239.180548"
      ]
     },
     "execution_count": 12,
     "metadata": {},
     "output_type": "execute_result"
    }
   ],
   "source": [
    "predictions_df"
   ]
  }
 ],
 "metadata": {
  "kernelspec": {
   "display_name": "venv",
   "language": "python",
   "name": "python3"
  },
  "language_info": {
   "codemirror_mode": {
    "name": "ipython",
    "version": 3
   },
   "file_extension": ".py",
   "mimetype": "text/x-python",
   "name": "python",
   "nbconvert_exporter": "python",
   "pygments_lexer": "ipython3",
   "version": "3.11.2"
  },
  "papermill": {
   "default_parameters": {},
   "duration": 4.756722,
   "end_time": "2023-04-11T16:05:05.585067",
   "environment_variables": {},
   "exception": null,
   "input_path": "prediccion.ipynb",
   "output_path": "prediccion.ipynb",
   "parameters": {
    "desv_estandar": [
     42.55987005120564,
     1.402516688394291,
     27.88344194488689,
     142067.1613139045
    ],
    "media": [
     127.3342857142857,
     3.125714285714286,
     50.62285714285714,
     327124.0115305251
    ]
   },
   "start_time": "2023-04-11T16:05:00.828345",
   "version": "2.4.0"
  }
 },
 "nbformat": 4,
 "nbformat_minor": 5
}