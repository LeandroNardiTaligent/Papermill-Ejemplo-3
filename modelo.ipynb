{
 "cells": [
  {
   "cell_type": "code",
   "execution_count": 1,
   "id": "f5431186",
   "metadata": {
    "execution": {
     "iopub.execute_input": "2023-04-11T16:04:35.836150Z",
     "iopub.status.busy": "2023-04-11T16:04:35.836150Z",
     "iopub.status.idle": "2023-04-11T16:04:37.526289Z",
     "shell.execute_reply": "2023-04-11T16:04:37.525271Z"
    },
    "papermill": {
     "duration": 1.690139,
     "end_time": "2023-04-11T16:04:37.526289",
     "exception": false,
     "start_time": "2023-04-11T16:04:35.836150",
     "status": "completed"
    },
    "tags": []
   },
   "outputs": [],
   "source": [
    "import pandas as pd\n",
    "import os\n",
    "import joblib\n",
    "from sklearn.linear_model import LinearRegression\n",
    "from sklearn.metrics import mean_squared_error, r2_score\n",
    "from time import time\n",
    "from datetime import datetime"
   ]
  },
  {
   "cell_type": "code",
   "execution_count": 2,
   "id": "18af5e8c",
   "metadata": {
    "execution": {
     "iopub.execute_input": "2023-04-11T16:04:37.543049Z",
     "iopub.status.busy": "2023-04-11T16:04:37.543049Z",
     "iopub.status.idle": "2023-04-11T16:04:37.555709Z",
     "shell.execute_reply": "2023-04-11T16:04:37.555709Z"
    },
    "papermill": {
     "duration": 0.023935,
     "end_time": "2023-04-11T16:04:37.555709",
     "exception": false,
     "start_time": "2023-04-11T16:04:37.531774",
     "status": "completed"
    },
    "tags": []
   },
   "outputs": [
    {
     "name": "stdout",
     "output_type": "stream",
     "text": [
      "[2023-04-11 13:04:37] Comienzo del entrenamiento del modelo\n"
     ]
    }
   ],
   "source": [
    "tiempo_inicio = time()\n",
    "today = f'[{datetime.today().strftime(\"%Y-%m-%d %H:%M:%S\")}]'\n",
    "print(f'{today} Comienzo del entrenamiento del modelo')"
   ]
  },
  {
   "cell_type": "code",
   "execution_count": 3,
   "id": "67c4deaf",
   "metadata": {
    "execution": {
     "iopub.execute_input": "2023-04-11T16:04:37.572331Z",
     "iopub.status.busy": "2023-04-11T16:04:37.567286Z",
     "iopub.status.idle": "2023-04-11T16:04:37.578786Z",
     "shell.execute_reply": "2023-04-11T16:04:37.578786Z"
    },
    "papermill": {
     "duration": 0.025086,
     "end_time": "2023-04-11T16:04:37.580795",
     "exception": false,
     "start_time": "2023-04-11T16:04:37.555709",
     "status": "completed"
    },
    "tags": []
   },
   "outputs": [],
   "source": [
    "# Variables Globales\n",
    "PATH = os.getcwd()\n",
    "AUX_FOLDER = 'aux_file'\n",
    "INPUT_FILENAME_TRAIN = 'dataset_train.xlsx'\n",
    "INPUT_FILENAME_TEST = 'dataset_test.xlsx'\n",
    "OUTPUT_FILENAME = 'model_weights.pkl'"
   ]
  },
  {
   "cell_type": "code",
   "execution_count": 4,
   "id": "466ef269",
   "metadata": {
    "execution": {
     "iopub.execute_input": "2023-04-11T16:04:37.588819Z",
     "iopub.status.busy": "2023-04-11T16:04:37.588819Z",
     "iopub.status.idle": "2023-04-11T16:04:38.135402Z",
     "shell.execute_reply": "2023-04-11T16:04:38.135402Z"
    },
    "papermill": {
     "duration": 0.554607,
     "end_time": "2023-04-11T16:04:38.135402",
     "exception": false,
     "start_time": "2023-04-11T16:04:37.580795",
     "status": "completed"
    },
    "tags": []
   },
   "outputs": [],
   "source": [
    "# Cargo los datos\n",
    "df_train = pd.read_excel(os.path.join(PATH, AUX_FOLDER, INPUT_FILENAME_TRAIN))\n",
    "df_test = pd.read_excel(os.path.join(PATH, AUX_FOLDER, INPUT_FILENAME_TEST))"
   ]
  },
  {
   "cell_type": "code",
   "execution_count": 5,
   "id": "033ab767",
   "metadata": {
    "execution": {
     "iopub.execute_input": "2023-04-11T16:04:38.139915Z",
     "iopub.status.busy": "2023-04-11T16:04:38.139915Z",
     "iopub.status.idle": "2023-04-11T16:04:38.160283Z",
     "shell.execute_reply": "2023-04-11T16:04:38.160283Z"
    },
    "papermill": {
     "duration": 0.020368,
     "end_time": "2023-04-11T16:04:38.160283",
     "exception": false,
     "start_time": "2023-04-11T16:04:38.139915",
     "status": "completed"
    },
    "tags": []
   },
   "outputs": [],
   "source": [
    "# Separo lo datos en train y test y variables pedictoras y target\n",
    "X_train = df_train.drop('Precio', axis=1)\n",
    "y_train = df_train['Precio']\n",
    "\n",
    "X_test = df_test.drop('Precio', axis=1)\n",
    "y_test = df_test['Precio']"
   ]
  },
  {
   "cell_type": "code",
   "execution_count": 6,
   "id": "167cf809",
   "metadata": {
    "execution": {
     "iopub.execute_input": "2023-04-11T16:04:38.172302Z",
     "iopub.status.busy": "2023-04-11T16:04:38.172302Z",
     "iopub.status.idle": "2023-04-11T16:04:38.203700Z",
     "shell.execute_reply": "2023-04-11T16:04:38.203700Z"
    },
    "papermill": {
     "duration": 0.040416,
     "end_time": "2023-04-11T16:04:38.204707",
     "exception": false,
     "start_time": "2023-04-11T16:04:38.164291",
     "status": "completed"
    },
    "tags": []
   },
   "outputs": [
    {
     "data": {
      "text/html": [
       "<style>#sk-container-id-1 {color: black;background-color: white;}#sk-container-id-1 pre{padding: 0;}#sk-container-id-1 div.sk-toggleable {background-color: white;}#sk-container-id-1 label.sk-toggleable__label {cursor: pointer;display: block;width: 100%;margin-bottom: 0;padding: 0.3em;box-sizing: border-box;text-align: center;}#sk-container-id-1 label.sk-toggleable__label-arrow:before {content: \"▸\";float: left;margin-right: 0.25em;color: #696969;}#sk-container-id-1 label.sk-toggleable__label-arrow:hover:before {color: black;}#sk-container-id-1 div.sk-estimator:hover label.sk-toggleable__label-arrow:before {color: black;}#sk-container-id-1 div.sk-toggleable__content {max-height: 0;max-width: 0;overflow: hidden;text-align: left;background-color: #f0f8ff;}#sk-container-id-1 div.sk-toggleable__content pre {margin: 0.2em;color: black;border-radius: 0.25em;background-color: #f0f8ff;}#sk-container-id-1 input.sk-toggleable__control:checked~div.sk-toggleable__content {max-height: 200px;max-width: 100%;overflow: auto;}#sk-container-id-1 input.sk-toggleable__control:checked~label.sk-toggleable__label-arrow:before {content: \"▾\";}#sk-container-id-1 div.sk-estimator input.sk-toggleable__control:checked~label.sk-toggleable__label {background-color: #d4ebff;}#sk-container-id-1 div.sk-label input.sk-toggleable__control:checked~label.sk-toggleable__label {background-color: #d4ebff;}#sk-container-id-1 input.sk-hidden--visually {border: 0;clip: rect(1px 1px 1px 1px);clip: rect(1px, 1px, 1px, 1px);height: 1px;margin: -1px;overflow: hidden;padding: 0;position: absolute;width: 1px;}#sk-container-id-1 div.sk-estimator {font-family: monospace;background-color: #f0f8ff;border: 1px dotted black;border-radius: 0.25em;box-sizing: border-box;margin-bottom: 0.5em;}#sk-container-id-1 div.sk-estimator:hover {background-color: #d4ebff;}#sk-container-id-1 div.sk-parallel-item::after {content: \"\";width: 100%;border-bottom: 1px solid gray;flex-grow: 1;}#sk-container-id-1 div.sk-label:hover label.sk-toggleable__label {background-color: #d4ebff;}#sk-container-id-1 div.sk-serial::before {content: \"\";position: absolute;border-left: 1px solid gray;box-sizing: border-box;top: 0;bottom: 0;left: 50%;z-index: 0;}#sk-container-id-1 div.sk-serial {display: flex;flex-direction: column;align-items: center;background-color: white;padding-right: 0.2em;padding-left: 0.2em;position: relative;}#sk-container-id-1 div.sk-item {position: relative;z-index: 1;}#sk-container-id-1 div.sk-parallel {display: flex;align-items: stretch;justify-content: center;background-color: white;position: relative;}#sk-container-id-1 div.sk-item::before, #sk-container-id-1 div.sk-parallel-item::before {content: \"\";position: absolute;border-left: 1px solid gray;box-sizing: border-box;top: 0;bottom: 0;left: 50%;z-index: -1;}#sk-container-id-1 div.sk-parallel-item {display: flex;flex-direction: column;z-index: 1;position: relative;background-color: white;}#sk-container-id-1 div.sk-parallel-item:first-child::after {align-self: flex-end;width: 50%;}#sk-container-id-1 div.sk-parallel-item:last-child::after {align-self: flex-start;width: 50%;}#sk-container-id-1 div.sk-parallel-item:only-child::after {width: 0;}#sk-container-id-1 div.sk-dashed-wrapped {border: 1px dashed gray;margin: 0 0.4em 0.5em 0.4em;box-sizing: border-box;padding-bottom: 0.4em;background-color: white;}#sk-container-id-1 div.sk-label label {font-family: monospace;font-weight: bold;display: inline-block;line-height: 1.2em;}#sk-container-id-1 div.sk-label-container {text-align: center;}#sk-container-id-1 div.sk-container {/* jupyter's `normalize.less` sets `[hidden] { display: none; }` but bootstrap.min.css set `[hidden] { display: none !important; }` so we also need the `!important` here to be able to override the default hidden behavior on the sphinx rendered scikit-learn.org. See: https://github.com/scikit-learn/scikit-learn/issues/21755 */display: inline-block !important;position: relative;}#sk-container-id-1 div.sk-text-repr-fallback {display: none;}</style><div id=\"sk-container-id-1\" class=\"sk-top-container\"><div class=\"sk-text-repr-fallback\"><pre>LinearRegression()</pre><b>In a Jupyter environment, please rerun this cell to show the HTML representation or trust the notebook. <br />On GitHub, the HTML representation is unable to render, please try loading this page with nbviewer.org.</b></div><div class=\"sk-container\" hidden><div class=\"sk-item\"><div class=\"sk-estimator sk-toggleable\"><input class=\"sk-toggleable__control sk-hidden--visually\" id=\"sk-estimator-id-1\" type=\"checkbox\" checked><label for=\"sk-estimator-id-1\" class=\"sk-toggleable__label sk-toggleable__label-arrow\">LinearRegression</label><div class=\"sk-toggleable__content\"><pre>LinearRegression()</pre></div></div></div></div></div>"
      ],
      "text/plain": [
       "LinearRegression()"
      ]
     },
     "execution_count": 6,
     "metadata": {},
     "output_type": "execute_result"
    }
   ],
   "source": [
    "# Crear y entrenar el modelo de regresión lineal múltiple\n",
    "reg = LinearRegression()\n",
    "reg.fit(X_train, y_train)"
   ]
  },
  {
   "cell_type": "code",
   "execution_count": 7,
   "id": "edb95375",
   "metadata": {
    "execution": {
     "iopub.execute_input": "2023-04-11T16:04:38.213498Z",
     "iopub.status.busy": "2023-04-11T16:04:38.212740Z",
     "iopub.status.idle": "2023-04-11T16:04:38.220786Z",
     "shell.execute_reply": "2023-04-11T16:04:38.220786Z"
    },
    "papermill": {
     "duration": 0.016079,
     "end_time": "2023-04-11T16:04:38.220786",
     "exception": false,
     "start_time": "2023-04-11T16:04:38.204707",
     "status": "completed"
    },
    "tags": []
   },
   "outputs": [],
   "source": [
    "# Realizar predicciones en el conjunto de prueba\n",
    "y_pred = reg.predict(X_test)"
   ]
  },
  {
   "cell_type": "code",
   "execution_count": 8,
   "id": "f7cb2f10",
   "metadata": {
    "execution": {
     "iopub.execute_input": "2023-04-11T16:04:38.228368Z",
     "iopub.status.busy": "2023-04-11T16:04:38.228368Z",
     "iopub.status.idle": "2023-04-11T16:04:38.243468Z",
     "shell.execute_reply": "2023-04-11T16:04:38.243468Z"
    },
    "papermill": {
     "duration": 0.016107,
     "end_time": "2023-04-11T16:04:38.244475",
     "exception": false,
     "start_time": "2023-04-11T16:04:38.228368",
     "status": "completed"
    },
    "tags": []
   },
   "outputs": [
    {
     "name": "stdout",
     "output_type": "stream",
     "text": [
      "[2023-04-11 13:04:38] Los resultados obtenidos son:\n",
      "[2023-04-11 13:04:38] Mean Squared Error: 0.0014389823380607256\n",
      "[2023-04-11 13:04:38] R-squared: 0.9984625614192207\n"
     ]
    }
   ],
   "source": [
    "# Calcular métricas de evaluación\n",
    "mse = mean_squared_error(y_test, y_pred)\n",
    "r2 = r2_score(y_test, y_pred)\n",
    "\n",
    "today = f'[{datetime.today().strftime(\"%Y-%m-%d %H:%M:%S\")}]'\n",
    "print(f'{today} Los resultados obtenidos son:')\n",
    "print(f\"{today} Mean Squared Error: {mse}\")\n",
    "print(f\"{today} R-squared: {r2}\")"
   ]
  },
  {
   "cell_type": "code",
   "execution_count": 9,
   "id": "86074b8c",
   "metadata": {
    "execution": {
     "iopub.execute_input": "2023-04-11T16:04:38.268486Z",
     "iopub.status.busy": "2023-04-11T16:04:38.268486Z",
     "iopub.status.idle": "2023-04-11T16:04:38.284872Z",
     "shell.execute_reply": "2023-04-11T16:04:38.283362Z"
    },
    "papermill": {
     "duration": 0.024354,
     "end_time": "2023-04-11T16:04:38.284872",
     "exception": false,
     "start_time": "2023-04-11T16:04:38.260518",
     "status": "completed"
    },
    "tags": []
   },
   "outputs": [
    {
     "data": {
      "text/plain": [
       "['c:\\\\Users\\\\TALIGENT\\\\test\\\\Papermill\\\\Ejemplo 3\\\\aux_file\\\\model_weights.pkl']"
      ]
     },
     "execution_count": 9,
     "metadata": {},
     "output_type": "execute_result"
    }
   ],
   "source": [
    "# Obtener los coeficientes y la intersección del modelo\n",
    "coefficients = reg.coef_\n",
    "intercept = reg.intercept_\n",
    "\n",
    "# Guarda los coeficientes e intercept en un archivo usando joblib\n",
    "joblib.dump([coefficients, intercept], os.path.join(PATH, AUX_FOLDER, OUTPUT_FILENAME))"
   ]
  },
  {
   "cell_type": "code",
   "execution_count": 10,
   "id": "8edfe5b0",
   "metadata": {
    "execution": {
     "iopub.execute_input": "2023-04-11T16:04:38.292893Z",
     "iopub.status.busy": "2023-04-11T16:04:38.292893Z",
     "iopub.status.idle": "2023-04-11T16:04:38.305825Z",
     "shell.execute_reply": "2023-04-11T16:04:38.305825Z"
    },
    "papermill": {
     "duration": 0.012932,
     "end_time": "2023-04-11T16:04:38.305825",
     "exception": false,
     "start_time": "2023-04-11T16:04:38.292893",
     "status": "completed"
    },
    "tags": []
   },
   "outputs": [
    {
     "data": {
      "text/plain": [
       "array([ 0.89828297,  0.14628686, -0.39102177])"
      ]
     },
     "execution_count": 10,
     "metadata": {},
     "output_type": "execute_result"
    }
   ],
   "source": [
    "coefficients"
   ]
  },
  {
   "cell_type": "code",
   "execution_count": 11,
   "id": "b5bc0757",
   "metadata": {
    "execution": {
     "iopub.execute_input": "2023-04-11T16:04:38.317429Z",
     "iopub.status.busy": "2023-04-11T16:04:38.317429Z",
     "iopub.status.idle": "2023-04-11T16:04:38.331146Z",
     "shell.execute_reply": "2023-04-11T16:04:38.331146Z"
    },
    "papermill": {
     "duration": 0.024257,
     "end_time": "2023-04-11T16:04:38.333666",
     "exception": false,
     "start_time": "2023-04-11T16:04:38.309409",
     "status": "completed"
    },
    "tags": []
   },
   "outputs": [
    {
     "data": {
      "text/plain": [
       "1.0435113261461618e-16"
      ]
     },
     "execution_count": 11,
     "metadata": {},
     "output_type": "execute_result"
    }
   ],
   "source": [
    "intercept"
   ]
  },
  {
   "cell_type": "code",
   "execution_count": 12,
   "id": "1f6c2494",
   "metadata": {
    "execution": {
     "iopub.execute_input": "2023-04-11T16:04:38.349692Z",
     "iopub.status.busy": "2023-04-11T16:04:38.349692Z",
     "iopub.status.idle": "2023-04-11T16:04:38.366059Z",
     "shell.execute_reply": "2023-04-11T16:04:38.363892Z"
    },
    "papermill": {
     "duration": 0.024267,
     "end_time": "2023-04-11T16:04:38.366059",
     "exception": false,
     "start_time": "2023-04-11T16:04:38.341792",
     "status": "completed"
    },
    "tags": []
   },
   "outputs": [
    {
     "name": "stdout",
     "output_type": "stream",
     "text": [
      "[2023-04-11 13:04:38] El tiempo transcurrido de ejecucion fue: 00h 00m 00s\n"
     ]
    }
   ],
   "source": [
    "tiempo_fin = time()\n",
    "duracion = tiempo_fin - tiempo_inicio\n",
    "horas, remainder = divmod(int(duracion), 3600)\n",
    "minutos, segundos = divmod(remainder, 60)\n",
    "print(f'{today} El tiempo transcurrido de ejecucion fue: {horas:02d}h {minutos:02d}m {segundos:02d}s')"
   ]
  }
 ],
 "metadata": {
  "kernelspec": {
   "display_name": "venv",
   "language": "python",
   "name": "python3"
  },
  "language_info": {
   "codemirror_mode": {
    "name": "ipython",
    "version": 3
   },
   "file_extension": ".py",
   "mimetype": "text/x-python",
   "name": "python",
   "nbconvert_exporter": "python",
   "pygments_lexer": "ipython3",
   "version": "3.11.2"
  },
  "papermill": {
   "default_parameters": {},
   "duration": 8.158076,
   "end_time": "2023-04-11T16:04:41.652150",
   "environment_variables": {},
   "exception": null,
   "input_path": "modelo.ipynb",
   "output_path": "modelo.ipynb",
   "parameters": {},
   "start_time": "2023-04-11T16:04:33.494074",
   "version": "2.4.0"
  }
 },
 "nbformat": 4,
 "nbformat_minor": 5
}