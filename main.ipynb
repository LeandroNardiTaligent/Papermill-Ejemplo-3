{
 "cells": [
  {
   "cell_type": "code",
   "execution_count": 1,
   "metadata": {},
   "outputs": [],
   "source": [
    "import papermill as pm\n",
    "import pandas as pd\n",
    "import os"
   ]
  },
  {
   "cell_type": "code",
   "execution_count": 2,
   "metadata": {},
   "outputs": [],
   "source": [
    "PATH = os.getcwd()\n",
    "AUX_FOLDER = 'aux_file'\n",
    "LOG_FOLDER = 'log'\n",
    "FILENAME = 'scaler.xlsx'"
   ]
  },
  {
   "cell_type": "code",
   "execution_count": 3,
   "metadata": {},
   "outputs": [],
   "source": [
    "if not os.path.exists(os.path.join(PATH, LOG_FOLDER)):\n",
    "    os.mkdir(LOG_FOLDER)"
   ]
  },
  {
   "cell_type": "code",
   "execution_count": 4,
   "metadata": {},
   "outputs": [
    {
     "data": {
      "application/vnd.jupyter.widget-view+json": {
       "model_id": "921e819419db4c3a9de5bdf66eb4f9d9",
       "version_major": 2,
       "version_minor": 0
      },
      "text/plain": [
       "Executing:   0%|          | 0/9 [00:00<?, ?cell/s]"
      ]
     },
     "metadata": {},
     "output_type": "display_data"
    }
   ],
   "source": [
    "# Validacion de datos\n",
    "nb_validacion = pm.execute_notebook(\n",
    "   'validacion_datos.ipynb',\n",
    "   'validacion_datos.ipynb',\n",
    "   log_output=True,\n",
    "   stdout_file=open('log/validacion_stdout.log', 'w', encoding='utf-8'),\n",
    "   stderr_file=open('log/validacion_stderr.log', 'w', encoding='utf-8')\n",
    ")"
   ]
  },
  {
   "cell_type": "code",
   "execution_count": 5,
   "metadata": {},
   "outputs": [
    {
     "data": {
      "application/vnd.jupyter.widget-view+json": {
       "model_id": "e8496a6256884a06ad11103420d15ea8",
       "version_major": 2,
       "version_minor": 0
      },
      "text/plain": [
       "Executing:   0%|          | 0/10 [00:00<?, ?cell/s]"
      ]
     },
     "metadata": {},
     "output_type": "display_data"
    }
   ],
   "source": [
    "# Preprocesamiento\n",
    "nb_preprocesamiento = pm.execute_notebook(\n",
    "   'preprocesamiento.ipynb',\n",
    "   'preprocesamiento.ipynb',\n",
    "   log_output=True,\n",
    "   stdout_file=open('log/preprocesamiento_stdout.log', 'w', encoding='utf-8'),\n",
    "   stderr_file=open('log/preprocesamiento_stderr.log', 'w', encoding='utf-8')\n",
    ")"
   ]
  },
  {
   "cell_type": "code",
   "execution_count": 6,
   "metadata": {},
   "outputs": [
    {
     "data": {
      "application/vnd.jupyter.widget-view+json": {
       "model_id": "727858d205084abb992625fd85e3432a",
       "version_major": 2,
       "version_minor": 0
      },
      "text/plain": [
       "Executing:   0%|          | 0/12 [00:00<?, ?cell/s]"
      ]
     },
     "metadata": {},
     "output_type": "display_data"
    }
   ],
   "source": [
    "# Modelo\n",
    "nb_modelo = pm.execute_notebook(\n",
    "   'modelo.ipynb',\n",
    "   'modelo.ipynb',\n",
    "   log_output=True,\n",
    "   stdout_file=open('log/modelo_stdout.log', 'w', encoding='utf-8'),\n",
    "   stderr_file=open('log/modelo_stderr.log', 'w', encoding='utf-8')\n",
    ")"
   ]
  },
  {
   "cell_type": "code",
   "execution_count": 7,
   "metadata": {},
   "outputs": [
    {
     "data": {
      "application/vnd.jupyter.widget-view+json": {
       "model_id": "feaf14ae63c2438c80f413bb308def5c",
       "version_major": 2,
       "version_minor": 0
      },
      "text/plain": [
       "Executing:   0%|          | 0/12 [00:00<?, ?cell/s]"
      ]
     },
     "metadata": {},
     "output_type": "display_data"
    }
   ],
   "source": [
    "df_scaler = pd.read_excel(os.path.join(PATH, AUX_FOLDER, FILENAME))\n",
    "media = df_scaler.Media.to_list()\n",
    "std = df_scaler.STD.to_list()\n",
    "\n",
    "# Prediccion\n",
    "nb_prediccion = pm.execute_notebook(\n",
    "   'prediccion.ipynb',\n",
    "   'prediccion.ipynb',\n",
    "   log_output=True,\n",
    "   stdout_file=open('log/prediccion_stdout.log', 'w', encoding='utf-8'),\n",
    "   stderr_file=open('log/prediccion_stderr.log', 'w', encoding='utf-8'),\n",
    "   parameters={'media': media, 'desv_estandar': std}\n",
    ")"
   ]
  },
  {
   "cell_type": "code",
   "execution_count": 8,
   "metadata": {},
   "outputs": [
    {
     "data": {
      "text/html": [
       "<div>\n",
       "<style scoped>\n",
       "    .dataframe tbody tr th:only-of-type {\n",
       "        vertical-align: middle;\n",
       "    }\n",
       "\n",
       "    .dataframe tbody tr th {\n",
       "        vertical-align: top;\n",
       "    }\n",
       "\n",
       "    .dataframe thead th {\n",
       "        text-align: right;\n",
       "    }\n",
       "</style>\n",
       "<table border=\"1\" class=\"dataframe\">\n",
       "  <thead>\n",
       "    <tr style=\"text-align: right;\">\n",
       "      <th></th>\n",
       "      <th>Media</th>\n",
       "      <th>STD</th>\n",
       "    </tr>\n",
       "  </thead>\n",
       "  <tbody>\n",
       "    <tr>\n",
       "      <th>0</th>\n",
       "      <td>127.742</td>\n",
       "      <td>42.402399</td>\n",
       "    </tr>\n",
       "    <tr>\n",
       "      <th>1</th>\n",
       "      <td>3.072</td>\n",
       "      <td>1.422257</td>\n",
       "    </tr>\n",
       "    <tr>\n",
       "      <th>2</th>\n",
       "      <td>50.160</td>\n",
       "      <td>28.475927</td>\n",
       "    </tr>\n",
       "  </tbody>\n",
       "</table>\n",
       "</div>"
      ],
      "text/plain": [
       "     Media        STD\n",
       "0  127.742  42.402399\n",
       "1    3.072   1.422257\n",
       "2   50.160  28.475927"
      ]
     },
     "execution_count": 8,
     "metadata": {},
     "output_type": "execute_result"
    }
   ],
   "source": [
    "df_scaler = pd.read_excel(os.path.join(PATH, AUX_FOLDER, FILENAME))\n",
    "df_scaler"
   ]
  },
  {
   "cell_type": "code",
   "execution_count": 9,
   "metadata": {},
   "outputs": [],
   "source": [
    "media = df_scaler.Media.to_list()\n",
    "std = media = df_scaler.STD.to_list()"
   ]
  },
  {
   "cell_type": "code",
   "execution_count": 10,
   "metadata": {},
   "outputs": [
    {
     "data": {
      "text/plain": [
       "[42.40239894156933, 1.422257360677033, 28.47592667500041]"
      ]
     },
     "execution_count": 10,
     "metadata": {},
     "output_type": "execute_result"
    }
   ],
   "source": [
    "media"
   ]
  },
  {
   "cell_type": "code",
   "execution_count": 11,
   "metadata": {
    "tags": []
   },
   "outputs": [
    {
     "data": {
      "text/plain": [
       "[42.40239894156933, 1.422257360677033, 28.47592667500041]"
      ]
     },
     "execution_count": 11,
     "metadata": {},
     "output_type": "execute_result"
    }
   ],
   "source": [
    "std"
   ]
  }
 ],
 "metadata": {
  "kernelspec": {
   "display_name": "Python 3 (ipykernel)",
   "language": "python",
   "name": "python3"
  },
  "language_info": {
   "codemirror_mode": {
    "name": "ipython",
    "version": 3
   },
   "file_extension": ".py",
   "mimetype": "text/x-python",
   "name": "python",
   "nbconvert_exporter": "python",
   "pygments_lexer": "ipython3",
   "version": "3.11.2"
  }
 },
 "nbformat": 4,
 "nbformat_minor": 4
}
