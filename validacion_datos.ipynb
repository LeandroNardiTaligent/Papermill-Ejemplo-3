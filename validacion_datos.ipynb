{
 "cells": [
  {
   "cell_type": "code",
   "execution_count": 1,
   "id": "7eafe729",
   "metadata": {
    "execution": {
     "iopub.execute_input": "2023-04-11T16:03:34.058688Z",
     "iopub.status.busy": "2023-04-11T16:03:34.058688Z",
     "iopub.status.idle": "2023-04-11T16:03:34.675362Z",
     "shell.execute_reply": "2023-04-11T16:03:34.675362Z"
    },
    "papermill": {
     "duration": 0.624529,
     "end_time": "2023-04-11T16:03:34.675362",
     "exception": false,
     "start_time": "2023-04-11T16:03:34.050833",
     "status": "completed"
    },
    "tags": []
   },
   "outputs": [],
   "source": [
    "import pandas as pd\n",
    "import os\n",
    "from time import time\n",
    "from datetime import datetime"
   ]
  },
  {
   "cell_type": "code",
   "execution_count": 2,
   "id": "7c7a942f",
   "metadata": {
    "execution": {
     "iopub.execute_input": "2023-04-11T16:03:34.680370Z",
     "iopub.status.busy": "2023-04-11T16:03:34.680370Z",
     "iopub.status.idle": "2023-04-11T16:03:34.694204Z",
     "shell.execute_reply": "2023-04-11T16:03:34.694204Z"
    },
    "papermill": {
     "duration": 0.016371,
     "end_time": "2023-04-11T16:03:34.696741",
     "exception": false,
     "start_time": "2023-04-11T16:03:34.680370",
     "status": "completed"
    },
    "tags": []
   },
   "outputs": [
    {
     "name": "stdout",
     "output_type": "stream",
     "text": [
      "[2023-04-11 13:03:34] Comienzo de la validación de datos\n"
     ]
    }
   ],
   "source": [
    "tiempo_inicio = time()\n",
    "today = f'[{datetime.today().strftime(\"%Y-%m-%d %H:%M:%S\")}]'\n",
    "print(f'{today} Comienzo de la validación de datos')"
   ]
  },
  {
   "cell_type": "code",
   "execution_count": 3,
   "id": "d13ebd36",
   "metadata": {
    "execution": {
     "iopub.execute_input": "2023-04-11T16:03:34.703263Z",
     "iopub.status.busy": "2023-04-11T16:03:34.703263Z",
     "iopub.status.idle": "2023-04-11T16:03:34.708681Z",
     "shell.execute_reply": "2023-04-11T16:03:34.708681Z"
    },
    "papermill": {
     "duration": 0.01194,
     "end_time": "2023-04-11T16:03:34.708681",
     "exception": false,
     "start_time": "2023-04-11T16:03:34.696741",
     "status": "completed"
    },
    "tags": []
   },
   "outputs": [],
   "source": [
    "# Variables Globales\n",
    "PATH = os.getcwd()\n",
    "INPUT_FOLDER = 'input'\n",
    "AUX_FOLDER = 'aux_file'\n",
    "INPUT_FILENAME = 'dataset.xlsx'\n",
    "OUTPUT_FILENAME = 'dataset_validado.xlsx'\n",
    "ERROR = False"
   ]
  },
  {
   "cell_type": "code",
   "execution_count": 4,
   "id": "696ec71c",
   "metadata": {
    "execution": {
     "iopub.execute_input": "2023-04-11T16:03:34.713188Z",
     "iopub.status.busy": "2023-04-11T16:03:34.713188Z",
     "iopub.status.idle": "2023-04-11T16:03:34.723230Z",
     "shell.execute_reply": "2023-04-11T16:03:34.723230Z"
    },
    "papermill": {
     "duration": 0.010042,
     "end_time": "2023-04-11T16:03:34.723230",
     "exception": false,
     "start_time": "2023-04-11T16:03:34.713188",
     "status": "completed"
    },
    "tags": []
   },
   "outputs": [],
   "source": [
    "# Si no esta la carpeta aux_file, la creo\n",
    "if not os.path.exists(os.path.join(PATH, AUX_FOLDER)):\n",
    "    os.mkdir(AUX_FOLDER)"
   ]
  },
  {
   "cell_type": "code",
   "execution_count": 5,
   "id": "212d23f7",
   "metadata": {
    "execution": {
     "iopub.execute_input": "2023-04-11T16:03:34.729235Z",
     "iopub.status.busy": "2023-04-11T16:03:34.729235Z",
     "iopub.status.idle": "2023-04-11T16:03:35.378031Z",
     "shell.execute_reply": "2023-04-11T16:03:35.378031Z"
    },
    "papermill": {
     "duration": 0.650826,
     "end_time": "2023-04-11T16:03:35.380061",
     "exception": false,
     "start_time": "2023-04-11T16:03:34.729235",
     "status": "completed"
    },
    "tags": []
   },
   "outputs": [
    {
     "name": "stdout",
     "output_type": "stream",
     "text": [
      "[2023-04-11 13:03:35] El archivo se cargo existosamente\n"
     ]
    }
   ],
   "source": [
    "# Cargo los datos\n",
    "try:\n",
    "    data = pd.read_excel(os.path.join(PATH, INPUT_FOLDER, INPUT_FILENAME))\n",
    "    today = f'[{datetime.today().strftime(\"%Y-%m-%d %H:%M:%S\")}]'\n",
    "    print(f'{today} El archivo se cargo existosamente')\n",
    "except Exception as e:\n",
    "    today = f'[{datetime.today().strftime(\"%Y-%m-%d %H:%M:%S\")}]'\n",
    "    print(f'{today} Se produjo un error en la carga de archivo: {e}')\n",
    "    ERROR = True"
   ]
  },
  {
   "cell_type": "code",
   "execution_count": 6,
   "id": "5b881e8b",
   "metadata": {
    "execution": {
     "iopub.execute_input": "2023-04-11T16:03:35.388081Z",
     "iopub.status.busy": "2023-04-11T16:03:35.388081Z",
     "iopub.status.idle": "2023-04-11T16:03:35.397752Z",
     "shell.execute_reply": "2023-04-11T16:03:35.397752Z"
    },
    "papermill": {
     "duration": 0.017691,
     "end_time": "2023-04-11T16:03:35.397752",
     "exception": false,
     "start_time": "2023-04-11T16:03:35.380061",
     "status": "completed"
    },
    "tags": []
   },
   "outputs": [],
   "source": [
    "if ERROR:\n",
    "    os._exit(os.EX_OK)"
   ]
  },
  {
   "cell_type": "code",
   "execution_count": 7,
   "id": "766aa39f",
   "metadata": {
    "execution": {
     "iopub.execute_input": "2023-04-11T16:03:35.404354Z",
     "iopub.status.busy": "2023-04-11T16:03:35.404354Z",
     "iopub.status.idle": "2023-04-11T16:03:35.437809Z",
     "shell.execute_reply": "2023-04-11T16:03:35.437809Z"
    },
    "papermill": {
     "duration": 0.033455,
     "end_time": "2023-04-11T16:03:35.437809",
     "exception": false,
     "start_time": "2023-04-11T16:03:35.404354",
     "status": "completed"
    },
    "tags": []
   },
   "outputs": [
    {
     "data": {
      "text/html": [
       "<div>\n",
       "<style scoped>\n",
       "    .dataframe tbody tr th:only-of-type {\n",
       "        vertical-align: middle;\n",
       "    }\n",
       "\n",
       "    .dataframe tbody tr th {\n",
       "        vertical-align: top;\n",
       "    }\n",
       "\n",
       "    .dataframe thead th {\n",
       "        text-align: right;\n",
       "    }\n",
       "</style>\n",
       "<table border=\"1\" class=\"dataframe\">\n",
       "  <thead>\n",
       "    <tr style=\"text-align: right;\">\n",
       "      <th></th>\n",
       "      <th>Fecha</th>\n",
       "      <th>Area</th>\n",
       "      <th>Habitaciones</th>\n",
       "      <th>Antiguedad</th>\n",
       "      <th>Precio</th>\n",
       "    </tr>\n",
       "  </thead>\n",
       "  <tbody>\n",
       "    <tr>\n",
       "      <th>0</th>\n",
       "      <td>2003-08-13</td>\n",
       "      <td>182</td>\n",
       "      <td>1</td>\n",
       "      <td>67</td>\n",
       "      <td>425540.007714</td>\n",
       "    </tr>\n",
       "    <tr>\n",
       "      <th>1</th>\n",
       "      <td>2008-08-16</td>\n",
       "      <td>98</td>\n",
       "      <td>1</td>\n",
       "      <td>45</td>\n",
       "      <td>221783.700891</td>\n",
       "    </tr>\n",
       "    <tr>\n",
       "      <th>2</th>\n",
       "      <td>2017-01-30</td>\n",
       "      <td>134</td>\n",
       "      <td>3</td>\n",
       "      <td>6</td>\n",
       "      <td>443427.777911</td>\n",
       "    </tr>\n",
       "    <tr>\n",
       "      <th>3</th>\n",
       "      <td>2007-09-24</td>\n",
       "      <td>179</td>\n",
       "      <td>3</td>\n",
       "      <td>55</td>\n",
       "      <td>469706.327130</td>\n",
       "    </tr>\n",
       "    <tr>\n",
       "      <th>4</th>\n",
       "      <td>2010-10-06</td>\n",
       "      <td>54</td>\n",
       "      <td>2</td>\n",
       "      <td>69</td>\n",
       "      <td>56313.569319</td>\n",
       "    </tr>\n",
       "  </tbody>\n",
       "</table>\n",
       "</div>"
      ],
      "text/plain": [
       "       Fecha  Area  Habitaciones  Antiguedad         Precio\n",
       "0 2003-08-13   182             1          67  425540.007714\n",
       "1 2008-08-16    98             1          45  221783.700891\n",
       "2 2017-01-30   134             3           6  443427.777911\n",
       "3 2007-09-24   179             3          55  469706.327130\n",
       "4 2010-10-06    54             2          69   56313.569319"
      ]
     },
     "execution_count": 7,
     "metadata": {},
     "output_type": "execute_result"
    }
   ],
   "source": [
    "data.head()"
   ]
  },
  {
   "cell_type": "code",
   "execution_count": 8,
   "id": "4ae9e0db",
   "metadata": {
    "execution": {
     "iopub.execute_input": "2023-04-11T16:03:35.444925Z",
     "iopub.status.busy": "2023-04-11T16:03:35.444925Z",
     "iopub.status.idle": "2023-04-11T16:03:35.600700Z",
     "shell.execute_reply": "2023-04-11T16:03:35.600700Z"
    },
    "papermill": {
     "duration": 0.158851,
     "end_time": "2023-04-11T16:03:35.603776",
     "exception": false,
     "start_time": "2023-04-11T16:03:35.444925",
     "status": "completed"
    },
    "tags": []
   },
   "outputs": [
    {
     "name": "stdout",
     "output_type": "stream",
     "text": [
      "[2023-04-11 13:03:35] El archivo fue validado existosamente\n",
      "[2023-04-11 13:03:35] El tiempo transcurrido de ejecucion fue: 00h 00m 00s\n"
     ]
    }
   ],
   "source": [
    "# Validacion del campo Fecha\n",
    "try:\n",
    "    data['Fecha'] = pd.to_datetime(data['Fecha'], format = '%Y-%m-%d')\n",
    "    data.to_excel(os.path.join(PATH, AUX_FOLDER, OUTPUT_FILENAME), index=False)\n",
    "    today = f'[{datetime.today().strftime(\"%Y-%m-%d %H:%M:%S\")}]'\n",
    "    print(f'{today} El archivo fue validado existosamente')\n",
    "    tiempo_fin = time()\n",
    "    duracion = tiempo_fin - tiempo_inicio\n",
    "    horas, remainder = divmod(int(duracion), 3600)\n",
    "    minutos, segundos = divmod(remainder, 60)\n",
    "    print(f'{today} El tiempo transcurrido de ejecucion fue: {horas:02d}h {minutos:02d}m {segundos:02d}s')\n",
    "except:\n",
    "    today = f'[{datetime.today().strftime(\"%Y-%m-%d %H:%M:%S\")}]'\n",
    "    print(f'{today} El campo Fecha no se encuentra cargado correctamente')\n",
    "    ERROR = True"
   ]
  },
  {
   "cell_type": "code",
   "execution_count": 9,
   "id": "b3beac59",
   "metadata": {
    "execution": {
     "iopub.execute_input": "2023-04-11T16:03:35.615491Z",
     "iopub.status.busy": "2023-04-11T16:03:35.607798Z",
     "iopub.status.idle": "2023-04-11T16:03:35.620124Z",
     "shell.execute_reply": "2023-04-11T16:03:35.619200Z"
    },
    "papermill": {
     "duration": 0.016236,
     "end_time": "2023-04-11T16:03:35.624034",
     "exception": false,
     "start_time": "2023-04-11T16:03:35.607798",
     "status": "completed"
    },
    "tags": []
   },
   "outputs": [],
   "source": [
    "if ERROR:\n",
    "    os._exit(os.EX_OK)"
   ]
  }
 ],
 "metadata": {
  "kernelspec": {
   "display_name": "venv",
   "language": "python",
   "name": "python3"
  },
  "language_info": {
   "codemirror_mode": {
    "name": "ipython",
    "version": 3
   },
   "file_extension": ".py",
   "mimetype": "text/x-python",
   "name": "python",
   "nbconvert_exporter": "python",
   "pygments_lexer": "ipython3",
   "version": "3.11.2"
  },
  "papermill": {
   "default_parameters": {},
   "duration": 3.917335,
   "end_time": "2023-04-11T16:03:35.971766",
   "environment_variables": {},
   "exception": null,
   "input_path": "validacion_datos.ipynb",
   "output_path": "validacion_datos.ipynb",
   "parameters": {},
   "start_time": "2023-04-11T16:03:32.054431",
   "version": "2.4.0"
  }
 },
 "nbformat": 4,
 "nbformat_minor": 5
}